{
 "cells": [
  {
   "cell_type": "code",
   "execution_count": 1,
   "id": "53d0b30e",
   "metadata": {},
   "outputs": [
    {
     "name": "stdout",
     "output_type": "stream",
     "text": [
      "[1 2 3 4 5]\n",
      "[1 3 5]\n",
      "1\n",
      "5\n",
      "[3 4]\n",
      "[4 3]\n"
     ]
    },
    {
     "data": {
      "text/plain": [
       "1"
      ]
     },
     "execution_count": 1,
     "metadata": {},
     "output_type": "execute_result"
    }
   ],
   "source": [
    "# 1D ARRAY\n",
    "import numpy as np\n",
    "a=np.array([1,2,3,4,5])\n",
    "print(a)\n",
    "print(a[::2])\n",
    "print(a[0])\n",
    "print(a[-1])\n",
    "print(a[2:4])\n",
    "print(a[-2:-4:-1])\n",
    "a.ndim"
   ]
  },
  {
   "cell_type": "code",
   "execution_count": 2,
   "id": "1c3db15c",
   "metadata": {},
   "outputs": [
    {
     "name": "stdout",
     "output_type": "stream",
     "text": [
      "[[1 2 3]\n",
      " [4 5 6]\n",
      " [7 8 9]]\n",
      "[1 2 3]\n",
      "[[1 2]\n",
      " [4 5]]\n"
     ]
    }
   ],
   "source": [
    "# 2D ARRAY\n",
    "b=np.array([[1,2,3],[4,5,6],[7,8,9]])\n",
    "print(b)\n",
    "print(b[0])\n",
    "b.ndim\n",
    "print(b[0:2,0:2])"
   ]
  },
  {
   "cell_type": "code",
   "execution_count": 3,
   "id": "313f6afe",
   "metadata": {},
   "outputs": [],
   "source": [
    "#reshape\n",
    "#generate random array\n",
    "#condition\n",
    "#concatenation"
   ]
  },
  {
   "cell_type": "code",
   "execution_count": 4,
   "id": "312d1897",
   "metadata": {},
   "outputs": [
    {
     "data": {
      "text/plain": [
       "array([4, 5, 6])"
      ]
     },
     "execution_count": 4,
     "metadata": {},
     "output_type": "execute_result"
    }
   ],
   "source": [
    "#condition\n",
    "d=np.array([1,2,3,4,5,6])\n",
    "d[d>3]"
   ]
  },
  {
   "cell_type": "code",
   "execution_count": 5,
   "id": "4e5ae1be",
   "metadata": {},
   "outputs": [
    {
     "data": {
      "text/plain": [
       "array([False, False, False,  True,  True,  True])"
      ]
     },
     "execution_count": 5,
     "metadata": {},
     "output_type": "execute_result"
    }
   ],
   "source": [
    "d>3"
   ]
  },
  {
   "cell_type": "code",
   "execution_count": 6,
   "id": "8fa3d42e",
   "metadata": {},
   "outputs": [
    {
     "data": {
      "text/plain": [
       "array([[1, 2, 3],\n",
       "       [4, 5, 6],\n",
       "       [7, 8, 9],\n",
       "       [1, 2, 3],\n",
       "       [4, 5, 6],\n",
       "       [7, 8, 9]])"
      ]
     },
     "execution_count": 6,
     "metadata": {},
     "output_type": "execute_result"
    }
   ],
   "source": [
    "a = np.array([[1,2,3],[4,5,6],[7,8,9]])\n",
    "b = np.array([[1,2,3],[4,5,6],[7,8,9]])\n",
    "p = np.concatenate((a,b),axis=0)\n",
    "p"
   ]
  },
  {
   "cell_type": "code",
   "execution_count": 7,
   "id": "519b02f6",
   "metadata": {},
   "outputs": [
    {
     "data": {
      "text/plain": [
       "(array([1, 2, 3, 4, 5, 6]), array([1, 1, 1, 1, 1, 1], dtype=int64))"
      ]
     },
     "execution_count": 7,
     "metadata": {},
     "output_type": "execute_result"
    }
   ],
   "source": [
    "#unique value\n",
    "np.unique(d)\n",
    "#no of counts of each unique value\n",
    "np.unique(d,return_counts=True)\n",
    "#or we can use bincount"
   ]
  },
  {
   "cell_type": "code",
   "execution_count": 36,
   "id": "32bdbc09",
   "metadata": {},
   "outputs": [
    {
     "name": "stderr",
     "output_type": "stream",
     "text": [
      "C:\\Users\\devu0\\AppData\\Local\\Temp\\ipykernel_8168\\2027117449.py:4: DeprecationWarning: elementwise comparison failed; this will raise an error in the future.\n",
      "  np.where(x==y)\n"
     ]
    },
    {
     "data": {
      "text/plain": [
       "(array([], dtype=int64),)"
      ]
     },
     "execution_count": 36,
     "metadata": {},
     "output_type": "execute_result"
    }
   ],
   "source": [
    "#np.where\n",
    "x=np.array([1,4,5,2,5,6])\n",
    "y=np.array([1,2,3,4,5,6,7,8,9])\n",
    "np.where(x==y)"
   ]
  },
  {
   "cell_type": "code",
   "execution_count": 9,
   "id": "c0e5ccd9",
   "metadata": {},
   "outputs": [
    {
     "data": {
      "text/plain": [
       "(array([0, 0, 0], dtype=int64), array([0, 1, 2], dtype=int64))"
      ]
     },
     "execution_count": 9,
     "metadata": {},
     "output_type": "execute_result"
    }
   ],
   "source": [
    "np.where(a<4)"
   ]
  },
  {
   "cell_type": "code",
   "execution_count": 10,
   "id": "65b79923",
   "metadata": {},
   "outputs": [
    {
     "name": "stdout",
     "output_type": "stream",
     "text": [
      "[[1 2]\n",
      " [3 4]]\n",
      "[[1 2 3]\n",
      " [4 5 6]]\n",
      "[[ 9 12 15]\n",
      " [19 26 33]]\n"
     ]
    },
    {
     "data": {
      "text/plain": [
       "(2, 2)"
      ]
     },
     "execution_count": 10,
     "metadata": {},
     "output_type": "execute_result"
    }
   ],
   "source": [
    "#matrix multipliction\n",
    "a=np.arange(1,5).reshape(2,2)\n",
    "print(a)\n",
    "b=np.arange(1,7).reshape(2,3)\n",
    "print(b)\n",
    "#no of row in 1 must be = to columns in 2\n",
    "#np.tranpose\n",
    "print(np.matmul(a,b))\n",
    "a.shape"
   ]
  },
  {
   "cell_type": "code",
   "execution_count": 11,
   "id": "ed3475ab",
   "metadata": {},
   "outputs": [
    {
     "data": {
      "text/plain": [
       "2.5"
      ]
     },
     "execution_count": 11,
     "metadata": {},
     "output_type": "execute_result"
    }
   ],
   "source": [
    "#mean median\n",
    "np.mean(a)\n",
    "np.median(a)"
   ]
  },
  {
   "cell_type": "code",
   "execution_count": 12,
   "id": "eb3648c5",
   "metadata": {},
   "outputs": [
    {
     "data": {
      "text/plain": [
       "array([[-0.86540972,  2.91591942,  1.50583939],\n",
       "       [-7.97081356, -8.30597652,  6.03178661],\n",
       "       [-3.90877058, -1.37489123,  3.4399915 ]])"
      ]
     },
     "execution_count": 12,
     "metadata": {},
     "output_type": "execute_result"
    }
   ],
   "source": [
    "#generate random values\n",
    "np.random.randint(1,10,(2,2))\n",
    "#uniform\n",
    "np.random.uniform(-10.0,10.0,(3,3))\n",
    "#also np.random.rand\n"
   ]
  },
  {
   "cell_type": "code",
   "execution_count": 19,
   "id": "4a80a067",
   "metadata": {},
   "outputs": [
    {
     "data": {
      "text/plain": [
       "array([0.  , 0.02, 0.04, 0.06, 0.08, 0.1 , 0.12, 0.14, 0.16, 0.18, 0.2 ,\n",
       "       0.22, 0.24, 0.26, 0.28, 0.3 , 0.32, 0.34, 0.36, 0.38, 0.4 , 0.42,\n",
       "       0.44, 0.46, 0.48, 0.5 , 0.52, 0.54, 0.56, 0.58, 0.6 , 0.62, 0.64,\n",
       "       0.66, 0.68, 0.7 , 0.72, 0.74, 0.76, 0.78, 0.8 , 0.82, 0.84, 0.86,\n",
       "       0.88, 0.9 , 0.92, 0.94, 0.96, 0.98])"
      ]
     },
     "execution_count": 19,
     "metadata": {},
     "output_type": "execute_result"
    }
   ],
   "source": [
    "#linspace\n",
    "z= np.linspace(0,1,50, endpoint=False)\n",
    "z\n",
    "#endpoint is optional"
   ]
  },
  {
   "cell_type": "code",
   "execution_count": 24,
   "id": "cbd6d268",
   "metadata": {},
   "outputs": [
    {
     "data": {
      "text/plain": [
       "array([0.72, 0.16, 0.32, 0.1 , 0.06, 0.02, 0.98, 0.6 , 0.74, 0.84, 0.88,\n",
       "       0.66, 0.36, 0.92, 0.8 , 0.58, 0.68, 0.34, 0.3 , 0.18, 0.12, 0.76,\n",
       "       0.44, 0.48, 0.54, 0.2 , 0.5 , 0.9 , 0.  , 0.4 , 0.56, 0.08, 0.22,\n",
       "       0.82, 0.14, 0.38, 0.52, 0.04, 0.96, 0.26, 0.28, 0.94, 0.86, 0.24,\n",
       "       0.42, 0.46, 0.78, 0.64, 0.7 , 0.62])"
      ]
     },
     "execution_count": 24,
     "metadata": {},
     "output_type": "execute_result"
    }
   ],
   "source": [
    "#shuffle\n",
    "np.random.shuffle(z)\n",
    "z"
   ]
  },
  {
   "cell_type": "code",
   "execution_count": 25,
   "id": "4347721e",
   "metadata": {},
   "outputs": [
    {
     "data": {
      "text/plain": [
       "0.98"
      ]
     },
     "execution_count": 25,
     "metadata": {},
     "output_type": "execute_result"
    }
   ],
   "source": [
    "#max\n",
    "z.max()\n",
    "z.min()\n",
    "z.argmax #gives index number\n",
    "z.argmin\n"
   ]
  },
  {
   "cell_type": "code",
   "execution_count": 30,
   "id": "8417bd7c",
   "metadata": {},
   "outputs": [
    {
     "data": {
      "text/plain": [
       "array([1, 2, 3, 4, 5, 6, 1, 2, 3, 4, 5, 6])"
      ]
     },
     "execution_count": 30,
     "metadata": {},
     "output_type": "execute_result"
    }
   ],
   "source": [
    "#vstack\n",
    "np.vstack((z,z))\n",
    "np.hstack((d,d))"
   ]
  },
  {
   "cell_type": "code",
   "execution_count": 37,
   "id": "5d5e2bb2",
   "metadata": {},
   "outputs": [
    {
     "data": {
      "text/plain": [
       "array([[0., 0., 0.],\n",
       "       [0., 0., 0.]])"
      ]
     },
     "execution_count": 37,
     "metadata": {},
     "output_type": "execute_result"
    }
   ],
   "source": [
    "np.zeros((2,3))"
   ]
  },
  {
   "cell_type": "code",
   "execution_count": 38,
   "id": "8b8f09f4",
   "metadata": {},
   "outputs": [
    {
     "data": {
      "text/plain": [
       "array([[1., 1.],\n",
       "       [1., 1.],\n",
       "       [1., 1.]])"
      ]
     },
     "execution_count": 38,
     "metadata": {},
     "output_type": "execute_result"
    }
   ],
   "source": [
    "np.ones((3,2))"
   ]
  },
  {
   "cell_type": "code",
   "execution_count": 45,
   "id": "0649c88e",
   "metadata": {},
   "outputs": [
    {
     "data": {
      "text/plain": [
       "0.72"
      ]
     },
     "execution_count": 45,
     "metadata": {},
     "output_type": "execute_result"
    }
   ],
   "source": [
    "#sum of all elements of \n",
    "np.sum(z,axis=0)\n",
    "np.sum(z[0])"
   ]
  },
  {
   "cell_type": "code",
   "execution_count": 53,
   "id": "e117c37d",
   "metadata": {},
   "outputs": [
    {
     "data": {
      "text/plain": [
       "array([[ 1,  2,  3,  4,  5,  6],\n",
       "       [ 6,  7,  8,  9, 10, 11]])"
      ]
     },
     "execution_count": 53,
     "metadata": {},
     "output_type": "execute_result"
    }
   ],
   "source": [
    "a=np.array([[1,2,3,4,5],[6,7,8,9,10]])\n",
    "a = np.append(a,[[6],[11]],axis=1)\n",
    "a"
   ]
  }
 ],
 "metadata": {
  "kernelspec": {
   "display_name": "Python 3 (ipykernel)",
   "language": "python",
   "name": "python3"
  },
  "language_info": {
   "codemirror_mode": {
    "name": "ipython",
    "version": 3
   },
   "file_extension": ".py",
   "mimetype": "text/x-python",
   "name": "python",
   "nbconvert_exporter": "python",
   "pygments_lexer": "ipython3",
   "version": "3.9.12"
  }
 },
 "nbformat": 4,
 "nbformat_minor": 5
}
